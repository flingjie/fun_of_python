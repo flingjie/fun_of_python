{
 "cells": [
  {
   "cell_type": "markdown",
   "metadata": {},
   "source": [
    "本教程以《斗破苍穹》为例，实现从网络上爬取小说内容，合成语音进行朗读，并支持自动朗读下一章节的内容。基于requests、beautifulsoup4、pyttsx3、tkinter进行实现。"
   ]
  },
  {
   "cell_type": "markdown",
   "metadata": {},
   "source": [
    "![start](start.gif)"
   ]
  },
  {
   "cell_type": "markdown",
   "metadata": {},
   "source": [
    "## 一、爬取小说内容"
   ]
  },
  {
   "cell_type": "markdown",
   "metadata": {},
   "source": [
    "从网站（http://doupocangqiong1.com/） 爬取《斗破苍穹》小说并解析出章节标题和内容，并解析出下一章URL。"
   ]
  },
  {
   "cell_type": "markdown",
   "metadata": {},
   "source": [
    "### 使用requests获取网页内容"
   ]
  },
  {
   "cell_type": "code",
   "execution_count": 1,
   "metadata": {},
   "outputs": [],
   "source": [
    "import requests\n",
    "from bs4 import BeautifulSoup\n",
    "\n",
    "def parse_page(url):\n",
    "    \"\"\"\n",
    "        解析网页\n",
    "        \n",
    "        @param \n",
    "            url: 网页URL\n",
    "        @return \n",
    "            title: 章节标题\n",
    "            content: 章节内容\n",
    "            next_url: 下一章URL\n",
    "    \"\"\"\n",
    "    page = requests.get(url)\n",
    "    soup = BeautifulSoup(page.content, \"html.parser\")\n",
    "    title = soup.find('h1').get_text()\n",
    "    p_list = soup.select('div#neirong p')\n",
    "    content = [p.get_text().strip() for p in p_list]\n",
    "    urls = soup.select(\"a#BookNext\")\n",
    "    if urls:\n",
    "        next_url = urls[0]['href']\n",
    "    else:\n",
    "        next_url = None\n",
    "    return title, content, next_url"
   ]
  },
  {
   "cell_type": "code",
   "execution_count": 2,
   "metadata": {},
   "outputs": [],
   "source": [
    "# 第一章URL\n",
    "url = \"https://www.51shucheng.net/wangluo/doupocangqiong/23716.html\""
   ]
  },
  {
   "cell_type": "code",
   "execution_count": 3,
   "metadata": {},
   "outputs": [],
   "source": [
    "# 解析网页\n",
    "title, content, next_url = parse_page(url)"
   ]
  },
  {
   "cell_type": "code",
   "execution_count": 4,
   "metadata": {},
   "outputs": [
    {
     "data": {
      "text/plain": [
       "'第一章 陨落的天才'"
      ]
     },
     "execution_count": 4,
     "metadata": {},
     "output_type": "execute_result"
    }
   ],
   "source": [
    "title"
   ]
  },
  {
   "cell_type": "code",
   "execution_count": 5,
   "metadata": {},
   "outputs": [
    {
     "data": {
      "text/plain": [
       "['“斗之力，三段！”',\n",
       " '望着测验魔石碑上面闪亮得甚至有些刺眼的五个大字，少年面无表情，唇角有着一抹自嘲，紧握的手掌，因为大力，而导致略微尖锐的指甲深深的刺进了掌心之中，带来一阵阵钻心的疼痛…',\n",
       " '“萧炎，斗之力，三段！级别：低级！”测验魔石碑之旁，一位中年男子，看了一眼碑上所显示出来的信息，语气漠然的将之公布了出来…']"
      ]
     },
     "execution_count": 5,
     "metadata": {},
     "output_type": "execute_result"
    }
   ],
   "source": [
    "content[:3]"
   ]
  },
  {
   "cell_type": "code",
   "execution_count": 6,
   "metadata": {},
   "outputs": [
    {
     "data": {
      "text/plain": [
       "'https://www.51shucheng.net/wangluo/doupocangqiong/23718.html '"
      ]
     },
     "execution_count": 6,
     "metadata": {},
     "output_type": "execute_result"
    }
   ],
   "source": [
    "# 打印下一章URL\n",
    "next_url"
   ]
  },
  {
   "cell_type": "markdown",
   "metadata": {},
   "source": [
    "# 二、朗读文章内容"
   ]
  },
  {
   "cell_type": "code",
   "execution_count": 7,
   "metadata": {},
   "outputs": [],
   "source": [
    "# 初始化\n",
    "import pyttsx3\n",
    "engine = pyttsx3.init()"
   ]
  },
  {
   "cell_type": "markdown",
   "metadata": {},
   "source": [
    "### 实现朗读标题功能"
   ]
  },
  {
   "cell_type": "code",
   "execution_count": 8,
   "metadata": {},
   "outputs": [],
   "source": [
    "def read_title(title):\n",
    "    \"\"\"\n",
    "        朗读章节标题\n",
    "    \"\"\"\n",
    "    engine.say(title)\n",
    "    engine.runAndWait()"
   ]
  },
  {
   "cell_type": "code",
   "execution_count": 71,
   "metadata": {},
   "outputs": [],
   "source": [
    "read_title(title)"
   ]
  },
  {
   "cell_type": "markdown",
   "metadata": {},
   "source": [
    "### 实现朗读章节内容"
   ]
  },
  {
   "cell_type": "code",
   "execution_count": 10,
   "metadata": {},
   "outputs": [],
   "source": [
    "def read_text(content):\n",
    "    \"\"\"\n",
    "        朗读章节内容\n",
    "    \"\"\"\n",
    "    for c in content:\n",
    "        engine.say(c)\n",
    "        engine.runAndWait()"
   ]
  },
  {
   "cell_type": "code",
   "execution_count": 73,
   "metadata": {},
   "outputs": [],
   "source": [
    "read_text(content)"
   ]
  },
  {
   "cell_type": "markdown",
   "metadata": {},
   "source": [
    "注：开源库pyttsx3实现的语音效果一般，如要改进朗读效果可尝试其他TTS，比如百度、腾讯、讯飞等平台的TTS功能"
   ]
  },
  {
   "cell_type": "markdown",
   "metadata": {},
   "source": [
    "# 三、界面实现"
   ]
  },
  {
   "cell_type": "markdown",
   "metadata": {},
   "source": [
    "### 设置界面背景"
   ]
  },
  {
   "cell_type": "code",
   "execution_count": null,
   "metadata": {},
   "outputs": [],
   "source": [
    "import tkinter as tk\n",
    "from PIL import ImageTk, Image  \n",
    "import time\n",
    "\n",
    "class Player(object):\n",
    "    def __init__(self, root, filename, **kwargs):\n",
    "        self.root = root\n",
    "        self.filename = filename\n",
    "        self.canvas = tk.Canvas(root, width=200, height=200)\n",
    "        self.canvas.pack()\n",
    "\n",
    "        self.btn_text = tk.StringVar()\n",
    "        self.btn_text.set(\"暂停\")\n",
    "        self.btn_play = tk.Button(root)\n",
    "        self.btn_play = tk.Button(root, height=2, width=6,\n",
    "                                    padx=3, pady=3,\n",
    "                                    textvariable=self.btn_text, \n",
    "                                    command=self.btn_handler)\n",
    "        self.btn_play.pack()\n",
    "\n",
    "    def btn_handler(self):\n",
    "        text = self.btn_text.get()\n",
    "        if text == \"继续\":\n",
    "            self.btn_text.set(\"暂停\")\n",
    "        else:\n",
    "            self.btn_text.set(\"继续\")\n",
    "\n",
    "root = tk.Tk()\n",
    "root.title(\"斗破苍穹\")\n",
    "app = Player(root, 'player_bg.png')\n",
    "root.mainloop()"
   ]
  },
  {
   "cell_type": "markdown",
   "metadata": {},
   "source": [
    "效果如下：\n",
    "<img src=\"player.png\" alt=\"player\" width=\"250\"/>"
   ]
  },
  {
   "cell_type": "markdown",
   "metadata": {},
   "source": [
    "### 实现播放动态效果"
   ]
  },
  {
   "cell_type": "code",
   "execution_count": null,
   "metadata": {},
   "outputs": [],
   "source": [
    "def run_animation():\n",
    "    while True:\n",
    "        try:\n",
    "            global photo\n",
    "            global frame\n",
    "            global label\n",
    "            photo = PhotoImage(file = photo_path)\n",
    "            label.configure(image = nextframe)\n",
    "        except Exception:\n",
    "            frame = 1\n",
    "            break"
   ]
  },
  {
   "cell_type": "markdown",
   "metadata": {},
   "source": [
    "效果如下：\n",
    "<img src=\"player.gif\" alt=\"player\" width=\"250\"/>"
   ]
  },
  {
   "cell_type": "markdown",
   "metadata": {},
   "source": [
    "最后可以用线程的方式在后台朗读小说，完整代码可以通过关注公众号“Python的乐趣”，发送“生成有声书”获取。"
   ]
  }
 ],
 "metadata": {
  "kernelspec": {
   "display_name": "Python 3",
   "language": "python",
   "name": "python3"
  },
  "language_info": {
   "codemirror_mode": {
    "name": "ipython",
    "version": 3
   },
   "file_extension": ".py",
   "mimetype": "text/x-python",
   "name": "python",
   "nbconvert_exporter": "python",
   "pygments_lexer": "ipython3",
   "version": "3.8.3"
  }
 },
 "nbformat": 4,
 "nbformat_minor": 4
}
