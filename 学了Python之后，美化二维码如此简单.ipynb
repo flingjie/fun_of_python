{
 "cells": [
  {
   "cell_type": "markdown",
   "metadata": {},
   "source": [
    "二维码（2-dimensional bar code），又称QR Code，是用某种特定的几何图形按一定规律在平面（二维方向上）分布的黑白相间的图形记录数据符号信息的。本教程将展示如何在原有黑白图片的基础上，给二维码添加一些色彩和动态效果，即给二维码换个皮肤。首先，简单了解一下二维码的基础知识。"
   ]
  },
  {
   "cell_type": "markdown",
   "metadata": {},
   "source": [
    "### 二维码的基础知识"
   ]
  },
  {
   "cell_type": "markdown",
   "metadata": {},
   "source": [
    "一个普通二维码的基本结构如下:"
   ]
  },
  {
   "cell_type": "markdown",
   "metadata": {},
   "source": [
    "![qrcode_structure.png](qrcode_structure.png)"
   ]
  },
  {
   "cell_type": "markdown",
   "metadata": {},
   "source": [
    "其中位置探测图像、定位图像和校验图形用于定位功能；格式信息表示二维码的纠错级别，分为L、M、Q、H；版本信息：从21x21（版本1），到177x177（版本40），每一版本符号比前一版本 每边增加4个模块；数据和纠错码字就是实际保存的二维码信息以及二维码变脏或破损用于修正的信息。\n",
    "\n",
    "了解了二维码的基本结构后，下面开始用Python美化二维码。"
   ]
  },
  {
   "cell_type": "markdown",
   "metadata": {},
   "source": [
    "### 1. 安装第三方库zxing和myqr"
   ]
  },
  {
   "cell_type": "markdown",
   "metadata": {},
   "source": [
    "zxing用来识别二维码中的内容，myqr用来生成个性化的二维码，安装命令如下："
   ]
  },
  {
   "cell_type": "markdown",
   "metadata": {},
   "source": [
    "`$ pip install zxing myqr`"
   ]
  },
  {
   "cell_type": "markdown",
   "metadata": {},
   "source": [
    "### 2. 二维码简单背景替换"
   ]
  },
  {
   "cell_type": "markdown",
   "metadata": {},
   "source": [
    "二维码图片如下："
   ]
  },
  {
   "cell_type": "markdown",
   "metadata": {},
   "source": [
    "![qrcode.png](qrcode.png)"
   ]
  },
  {
   "cell_type": "markdown",
   "metadata": {},
   "source": [
    "背景图片如下："
   ]
  },
  {
   "cell_type": "markdown",
   "metadata": {},
   "source": [
    "<img src=\"luffy.png\" alt=\"\" width=\"200\"/>"
   ]
  },
  {
   "cell_type": "code",
   "execution_count": 1,
   "metadata": {},
   "outputs": [],
   "source": [
    "# 导入xzing和myqr\n",
    "import zxing\n",
    "from MyQR import myqr\n",
    "import os"
   ]
  },
  {
   "cell_type": "code",
   "execution_count": 2,
   "metadata": {},
   "outputs": [
    {
     "name": "stdout",
     "output_type": "stream",
     "text": [
      "BarCode(raw='http://weixin.qq.com/r/Uh1UTErE9heJrQ4v90hA', parsed='http://weixin.qq.com/r/Uh1UTErE9heJrQ4v90hA', format='QR_CODE', type='URI', points=[(37.5, 221.5), (37.5, 37.5), (221.5, 37.5), (196.5, 196.5)])\n"
     ]
    }
   ],
   "source": [
    "# 解析二维码中的内容\n",
    "reader = zxing.BarCodeReader()\n",
    "content = reader.decode(\"qrcode.png\")\n",
    "print(content)"
   ]
  },
  {
   "cell_type": "code",
   "execution_count": 3,
   "metadata": {},
   "outputs": [
    {
     "name": "stdout",
     "output_type": "stream",
     "text": [
      "line 16: mode: byte\n"
     ]
    }
   ],
   "source": [
    "# 生成新的二维码\n",
    "version, level, qr_name = myqr.run(\n",
    "    words=content.parsed,                   # 上面解析出来的二维码内容\n",
    "    version=1,                              # 设置容错率为最高\n",
    "    level='H',                              # 控制纠错水平，范围是L、M、Q、H，从左到右依次升高\n",
    "    picture=\"luffy.png\",                    # 要使用的图片\n",
    "    colorized=True,                         # 彩色二维码\n",
    "    contrast=1.0,                           #用以调节图片的对比度，1.0 表示原始图片，更小的值表示更低对比度，更大反之。默认为1.0\n",
    "    brightness=1.0,                         #用来调节图片的亮度，其余用法和取值同上\n",
    "    save_name=\"qr_colorized.png\",           # 保存文件的名字，格式可以是jpg,png,bmp,gif\n",
    "    save_dir=os.getcwd()                    #保存位置\n",
    ")"
   ]
  },
  {
   "cell_type": "markdown",
   "metadata": {},
   "source": [
    "### 效果如下："
   ]
  },
  {
   "cell_type": "markdown",
   "metadata": {},
   "source": [
    "![qr_colorized.png](qr_colorized.png)"
   ]
  },
  {
   "cell_type": "markdown",
   "metadata": {},
   "source": [
    "下面再展示如何生成一个有动态效果的二维码。"
   ]
  },
  {
   "cell_type": "markdown",
   "metadata": {},
   "source": [
    "### 3. 动态二维码"
   ]
  },
  {
   "cell_type": "markdown",
   "metadata": {},
   "source": [
    "动图如下："
   ]
  },
  {
   "cell_type": "markdown",
   "metadata": {},
   "source": [
    "![penguin.gif](penguin.gif)"
   ]
  },
  {
   "cell_type": "code",
   "execution_count": 5,
   "metadata": {},
   "outputs": [
    {
     "name": "stdout",
     "output_type": "stream",
     "text": [
      "line 16: mode: byte\n"
     ]
    }
   ],
   "source": [
    "# 生成动图二维码\n",
    "\n",
    "version, level, qr_name = myqr.run(\n",
    "    words=content.parsed,                   # 上面解析出来的二维码内容\n",
    "    version=1,                              # 设置容错率为最高\n",
    "    level='H',                              # 控制纠错水平，范围是L、M、Q、H，从左到右依次升高\n",
    "    picture=\"penguin.gif\",                  # gif图片\n",
    "    colorized=True,                         # 彩色二维码\n",
    "    contrast=1.0,                           #用以调节图片的对比度，1.0 表示原始图片，更小的值表示更低对比度，更大反之。默认为1.0\n",
    "    brightness=1.0,                         #用来调节图片的亮度，其余用法和取值同上\n",
    "    save_name=\"qrcode.gif\",                 # 保存文件的名字，格式可以是jpg,png,bmp,gif\n",
    "    save_dir=os.getcwd()                    #保存位置\n",
    ")"
   ]
  },
  {
   "cell_type": "markdown",
   "metadata": {},
   "source": [
    "#### 效果如下"
   ]
  },
  {
   "cell_type": "markdown",
   "metadata": {},
   "source": [
    "![qrcode.gif](qrcode.gif)"
   ]
  },
  {
   "cell_type": "markdown",
   "metadata": {},
   "source": [
    "参考资料：\n",
    "\n",
    "https://coolshell.cn/articles/10590.html 二维码的生成细节和原理 \n",
    "\n",
    "https://github.com/sylnsfar/qrcode\n",
    "\n",
    "https://github.com/dlenski/python-zxing"
   ]
  }
 ],
 "metadata": {
  "kernelspec": {
   "display_name": "Python 3",
   "language": "python",
   "name": "python3"
  },
  "language_info": {
   "codemirror_mode": {
    "name": "ipython",
    "version": 3
   },
   "file_extension": ".py",
   "mimetype": "text/x-python",
   "name": "python",
   "nbconvert_exporter": "python",
   "pygments_lexer": "ipython3",
   "version": "3.8.3"
  }
 },
 "nbformat": 4,
 "nbformat_minor": 4
}
